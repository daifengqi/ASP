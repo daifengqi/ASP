{
 "cells": [
  {
   "cell_type": "markdown",
   "metadata": {
    "collapsed": true
   },
   "source": [
    "# SABR Model Test Code"
   ]
  },
  {
   "cell_type": "code",
   "execution_count": 1,
   "metadata": {},
   "outputs": [],
   "source": [
    "%load_ext autoreload\n",
    "%autoreload 2"
   ]
  },
  {
   "cell_type": "code",
   "execution_count": 2,
   "metadata": {},
   "outputs": [
    {
     "data": {
      "text/plain": [
       "<module 'pyfeng' from '/Users/cescqi/PycharmProjects/venvCollection/phbs/lib/python3.7/site-packages/pyfeng/__init__.py'>"
      ]
     },
     "execution_count": 2,
     "metadata": {},
     "output_type": "execute_result"
    }
   ],
   "source": [
    "import imp\n",
    "import numpy as np\n",
    "import matplotlib.pyplot as plt\n",
    "import sys\n",
    "sys.path.insert(sys.path.index('')+1, 'D:/Github/PyFENG')\n",
    "import pyfeng as pf\n",
    "import option_models as opt\n",
    "pf"
   ]
  },
  {
   "cell_type": "markdown",
   "metadata": {},
   "source": [
    "## 1. Pricing using Hagan's formula (provided)"
   ]
  },
  {
   "cell_type": "markdown",
   "metadata": {},
   "source": [
    "### (1) SABR for $0<\\beta\\le 1$"
   ]
  },
  {
   "cell_type": "code",
   "execution_count": 3,
   "metadata": {},
   "outputs": [],
   "source": [
    "# Parameters\n",
    "strike = np.linspace(75,125,num=25)\n",
    "forward = 100\n",
    "sigma = 0.2\n",
    "texp = 1\n",
    "vov = 0.5\n",
    "rho = 0.25\n",
    "beta = 1"
   ]
  },
  {
   "cell_type": "code",
   "execution_count": 4,
   "metadata": {},
   "outputs": [],
   "source": [
    "# Create model\n",
    "sabr_bsm = pf.SabrHagan2002(sigma, vov=vov, rho=rho, beta=beta)\n",
    "#sabr_bsm.__dict__"
   ]
  },
  {
   "cell_type": "code",
   "execution_count": 5,
   "metadata": {},
   "outputs": [
    {
     "data": {
      "text/plain": [
       "(array([25.63112985, 23.75128418, 21.92436819, 20.15929844, 18.464919  ,\n",
       "        16.84954379, 15.32049449, 13.88369006, 12.5433379 , 11.30176115,\n",
       "        10.15937353,  9.11479108,  8.16505218,  7.30590775,  6.53214252,\n",
       "         5.83789336,  5.21693965,  4.66295032,  4.1696811 ,  3.73112202,\n",
       "         3.34159961,  2.99584057,  2.68900456,  2.4166934 ,  2.17494321]),\n",
       " array([0.20400581, 0.20266888, 0.20161986, 0.20085527, 0.2003692 ,\n",
       "        0.20015312, 0.20019595, 0.20048427, 0.20100266, 0.20173418,\n",
       "        0.20266088, 0.20376432, 0.20502604, 0.20642803, 0.20795302,\n",
       "        0.20958477, 0.2113082 , 0.21310949, 0.21497615, 0.21689693,\n",
       "        0.2188618 , 0.22086191, 0.22288945, 0.22493758, 0.22700034]))"
      ]
     },
     "execution_count": 5,
     "metadata": {},
     "output_type": "execute_result"
    }
   ],
   "source": [
    "# This is how you price. you can get either price or bsm_vol\n",
    "price = sabr_bsm.price(strike, forward, texp)\n",
    "bsm_vol = sabr_bsm.vol_smile(strike, forward, texp)\n",
    "\n",
    "price, bsm_vol"
   ]
  },
  {
   "cell_type": "code",
   "execution_count": 6,
   "metadata": {},
   "outputs": [
    {
     "data": {
      "image/png": "[encoded data removed]",
      "text/plain": [
       "<Figure size 432x288 with 1 Axes>"
      ]
     },
     "metadata": {
      "needs_background": "light"
     },
     "output_type": "display_data"
    }
   ],
   "source": [
    "# volatility smile plot: try with different parameters\n",
    "plt.plot(strike, bsm_vol, 'ro')\n",
    "#plt.axis([0, 6, 0, 20])\n",
    "plt.ylabel('BSM Imp Vol under SABR')\n",
    "plt.xlabel('Strike')\n",
    "plt.grid()\n",
    "plt.show()"
   ]
  },
  {
   "cell_type": "markdown",
   "metadata": {},
   "source": [
    "### (2) SABR for $\\beta=0$"
   ]
  },
  {
   "cell_type": "code",
   "execution_count": 7,
   "metadata": {},
   "outputs": [],
   "source": [
    "strike = np.linspace(75,125,num=25)\n",
    "#strike = 1\n",
    "forward = 100\n",
    "sigma = 20\n",
    "texp = 1\n",
    "alpha = 0.5\n",
    "rho = -0.25"
   ]
  },
  {
   "cell_type": "code",
   "execution_count": 8,
   "metadata": {},
   "outputs": [],
   "source": [
    "sabr_norm = pf.SabrHagan2002(sigma, vov=vov, rho=rho, beta=0)\n",
    "price = sabr_norm.price(strike, forward, texp)\n",
    "nvol = sabr_norm.vol_smile(strike, forward, texp, model='norm')"
   ]
  },
  {
   "cell_type": "code",
   "execution_count": 9,
   "metadata": {},
   "outputs": [
    {
     "data": {
      "image/png": "[encoded data removed]",
      "text/plain": [
       "<Figure size 432x288 with 1 Axes>"
      ]
     },
     "metadata": {
      "needs_background": "light"
     },
     "output_type": "display_data"
    }
   ],
   "source": [
    "plt.plot(strike, nvol, 'ro')\n",
    "#plt.axis([0, 6, 0, 20])\n",
    "plt.ylabel('Normal Imp Vol under SABR')\n",
    "plt.xlabel('Strike')\n",
    "plt.grid()\n",
    "plt.show()"
   ]
  },
  {
   "cell_type": "markdown",
   "metadata": {},
   "source": [
    "### (3) Smile calibration to 3 options"
   ]
  },
  {
   "cell_type": "code",
   "execution_count": 10,
   "metadata": {},
   "outputs": [
    {
     "data": {
      "text/plain": [
       "(array([13.60780137,  8.16505218,  4.76869334]),\n",
       " array([0.20057006, 0.20502604, 0.21274362]))"
      ]
     },
     "execution_count": 10,
     "metadata": {},
     "output_type": "execute_result"
    }
   ],
   "source": [
    "strike3 = np.array([90, 100, 110])\n",
    "price3 = sabr_bsm.price(strike3, forward, texp)\n",
    "vol3 = sabr_bsm.vol_smile(strike3, forward, texp)\n",
    "\n",
    "price3, vol3"
   ]
  },
  {
   "cell_type": "code",
   "execution_count": 11,
   "metadata": {},
   "outputs": [
    {
     "data": {
      "text/plain": [
       "{'sigma': 0.2,\n",
       " 'intr': 0.0,\n",
       " 'divr': 0.0,\n",
       " 'is_fwd': False,\n",
       " 'vov': 0.5,\n",
       " 'rho': 0.25,\n",
       " 'beta': 1}"
      ]
     },
     "execution_count": 11,
     "metadata": {},
     "output_type": "execute_result"
    }
   ],
   "source": [
    "sabr_bsm.__dict__"
   ]
  },
  {
   "cell_type": "code",
   "execution_count": 12,
   "metadata": {},
   "outputs": [
    {
     "data": {
      "text/plain": [
       "{'sigma': 0.2000000000001008,\n",
       " 'vov': 0.4999999998672808,\n",
       " 'rho': 0.24999999998258432}"
      ]
     },
     "execution_count": 12,
     "metadata": {},
     "output_type": "execute_result"
    }
   ],
   "source": [
    "# makre sure this return the original sigma, alpha, rho\n",
    "sabr_bsm.calibrate3(vol3, strike3, forward, texp, is_vol=True)"
   ]
  },
  {
   "cell_type": "code",
   "execution_count": 13,
   "metadata": {},
   "outputs": [
    {
     "data": {
      "text/plain": [
       "{'sigma': 0.19999999979636335,\n",
       " 'vov': 0.5000000129299839,\n",
       " 'rho': 0.2499999894054446}"
      ]
     },
     "execution_count": 13,
     "metadata": {},
     "output_type": "execute_result"
    }
   ],
   "source": [
    "# makre sure this return the original sigma, alpha, rho\n",
    "sabr_bsm.calibrate3(price3, strike3, forward, texp, is_vol=False)"
   ]
  },
  {
   "cell_type": "markdown",
   "metadata": {},
   "source": [
    "## 2. Pricing under MC method"
   ]
  },
  {
   "cell_type": "code",
   "execution_count": 14,
   "metadata": {},
   "outputs": [],
   "source": [
    "strike = np.linspace(75,125,num=25)\n",
    "forward = 100"
   ]
  },
  {
   "cell_type": "code",
   "execution_count": 15,
   "metadata": {},
   "outputs": [
    {
     "name": "stdout",
     "output_type": "stream",
     "text": [
      "{'sigma': 0.2, 'intr': 0.0, 'divr': 0.0, 'is_fwd': False, 'vov': 0.5, 'rho': 0.25, 'beta': 1}\n"
     ]
    }
   ],
   "source": [
    "# instantiate mc model from the hagan model's parameters\n",
    "print(sabr_bsm.__dict__)\n",
    "sabr_bsm_mc = opt.sabr.ModelBsmMC(sabr_bsm.sigma, vov=sabr_bsm.vov, rho=sabr_bsm.rho, beta=1)"
   ]
  },
  {
   "cell_type": "code",
   "execution_count": 16,
   "metadata": {},
   "outputs": [
    {
     "data": {
      "text/plain": [
       "(array([25.63112985, 23.75128418, 21.92436819, 20.15929844, 18.464919  ,\n",
       "        16.84954379, 15.32049449, 13.88369006, 12.5433379 , 11.30176115,\n",
       "        10.15937353,  9.11479108,  8.16505218,  7.30590775,  6.53214252,\n",
       "         5.83789336,  5.21693965,  4.66295032,  4.1696811 ,  3.73112202,\n",
       "         3.34159961,  2.99584057,  2.68900456,  2.4166934 ,  2.17494321]),\n",
       " array([26.44283012, 24.56133486, 22.72635442, 20.94941933, 19.23700414,\n",
       "        17.60188731, 16.0522217 , 14.59214707, 13.22760969, 11.96648274,\n",
       "        10.80234709,  9.7366939 ,  8.76612855,  7.88523356,  7.08887739,\n",
       "         6.37107282,  5.72644575,  5.1468472 ,  4.62316308,  4.15059107,\n",
       "         3.73045166,  3.35586496,  3.02373736,  2.72881899,  2.46829491]))"
      ]
     },
     "execution_count": 16,
     "metadata": {},
     "output_type": "execute_result"
    }
   ],
   "source": [
    "price_hagan = sabr_bsm.price(strike, forward, texp)\n",
    "price_mc = sabr_bsm_mc.price(strike, forward, texp)\n",
    "\n",
    "# make sure the two prices are similar\n",
    "price_hagan, price_mc"
   ]
  },
  {
   "cell_type": "code",
   "execution_count": 17,
   "metadata": {},
   "outputs": [
    {
     "data": {
      "image/png": "[encoded data removed]",
      "text/plain": [
       "<Figure size 432x288 with 1 Axes>"
      ]
     },
     "metadata": {
      "needs_background": "light"
     },
     "output_type": "display_data"
    }
   ],
   "source": [
    "plt.plot(strike, sabr_bsm_mc.bsm_vol(strike, forward, texp), 'ro')\n",
    "plt.ylabel('BSM Imp Vol under SABR')\n",
    "plt.xlabel('Strike')\n",
    "plt.grid()\n",
    "plt.show()"
   ]
  },
  {
   "cell_type": "markdown",
   "metadata": {},
   "source": [
    "Repeat the same for beta = 0"
   ]
  },
  {
   "cell_type": "code",
   "execution_count": 18,
   "metadata": {},
   "outputs": [
    {
     "name": "stdout",
     "output_type": "stream",
     "text": [
      "{'sigma': 20, 'intr': 0.0, 'divr': 0.0, 'is_fwd': False, 'vov': 0.5, 'rho': -0.25, 'beta': 0}\n"
     ]
    }
   ],
   "source": [
    "# instantiate mc model from the hagan model's parameters\n",
    "print(sabr_norm.__dict__)\n",
    "sabr_norm_mc = opt.sabr.ModelNormalMC(sabr_norm.sigma, vov=sabr_norm.vov, rho=sabr_norm.rho, beta=0)"
   ]
  },
  {
   "cell_type": "code",
   "execution_count": 19,
   "metadata": {},
   "outputs": [
    {
     "data": {
      "text/plain": [
       "(array([26.59094359, 24.75316491, 22.95198866, 21.19221774, 19.47903728,\n",
       "        17.81796274, 16.21475835, 14.6753216 , 13.20553214, 11.81106589,\n",
       "        10.49717985,  9.26847793,  8.12867327,  7.08036718,  6.12486688,\n",
       "         5.26206391,  4.4903905 ,  3.80686327,  3.2072135 ,  2.6860921 ,\n",
       "         2.2373286 ,  1.85421785,  1.52980713,  1.25715953,  1.02957603]),\n",
       " array([26.4714095 , 24.63346717, 22.83635187, 21.08109784, 19.37272157,\n",
       "        17.71453177, 16.11416255, 14.57540748, 13.10710337, 11.71180772,\n",
       "        10.39397511,  9.16342781,  8.02275197,  6.97554887,  6.02117975,\n",
       "         5.16342373,  4.39666443,  3.71315309,  3.11335747,  2.58691062,\n",
       "         2.13412543,  1.74888625,  1.4284537 ,  1.15700918,  0.93196039]))"
      ]
     },
     "execution_count": 19,
     "metadata": {},
     "output_type": "execute_result"
    }
   ],
   "source": [
    "price_hagan = sabr_norm.price(strike, forward, texp)\n",
    "price_mc = sabr_norm_mc.price(strike, forward, texp)\n",
    "\n",
    "# make sure the two prices are similar\n",
    "price_hagan, price_mc"
   ]
  },
  {
   "cell_type": "code",
   "execution_count": 20,
   "metadata": {},
   "outputs": [
    {
     "data": {
      "image/png": "[encoded data removed]",
      "text/plain": [
       "<Figure size 432x288 with 1 Axes>"
      ]
     },
     "metadata": {
      "needs_background": "light"
     },
     "output_type": "display_data"
    }
   ],
   "source": [
    "plt.plot(strike, sabr_norm_mc.norm_vol(strike, forward, texp), 'ro')\n",
    "plt.ylabel('Normal Imp Vol under SABR')\n",
    "plt.xlabel('Strike')\n",
    "plt.grid()\n",
    "plt.show()"
   ]
  },
  {
   "cell_type": "markdown",
   "metadata": {
    "collapsed": true
   },
   "source": [
    "## 3. Pricing under conditional MC method"
   ]
  },
  {
   "cell_type": "code",
   "execution_count": 21,
   "metadata": {},
   "outputs": [],
   "source": [
    "strike = np.linspace(75,125,num=25)\n",
    "forward = 100"
   ]
  },
  {
   "cell_type": "code",
   "execution_count": 22,
   "metadata": {},
   "outputs": [
    {
     "name": "stdout",
     "output_type": "stream",
     "text": [
      "{'sigma': 0.2, 'intr': 0.0, 'divr': 0.0, 'is_fwd': False, 'vov': 0.5, 'rho': 0.25, 'beta': 1}\n"
     ]
    }
   ],
   "source": [
    "# instantiate mc model from the hagan model's parameters\n",
    "print(sabr_bsm.__dict__)\n",
    "sabr_bsm_cmc = opt.sabr.ModelBsmCondMC(sabr_bsm.sigma, vov=sabr_bsm.vov, rho=sabr_bsm.rho, beta=1)"
   ]
  },
  {
   "cell_type": "code",
   "execution_count": 23,
   "metadata": {},
   "outputs": [
    {
     "data": {
      "text/plain": [
       "(array([25.63112985, 23.75128418, 21.92436819, 20.15929844, 18.464919  ,\n",
       "        16.84954379, 15.32049449, 13.88369006, 12.5433379 , 11.30176115,\n",
       "        10.15937353,  9.11479108,  8.16505218,  7.30590775,  6.53214252,\n",
       "         5.83789336,  5.21693965,  4.66295032,  4.1696811 ,  3.73112202,\n",
       "         3.34159961,  2.99584057,  2.68900456,  2.4166934 ,  2.17494321]),\n",
       " array([25.64026354, 23.76162931, 21.93599885, 20.17218061, 18.47888858,\n",
       "        16.8642986 , 15.33560341, 13.89861905, 12.55748946, 11.31452104,\n",
       "        10.1701578 ,  9.12308713,  8.17044921,  7.3081147 ,  6.53099353,\n",
       "         5.83334267,  5.20904861,  4.65186956,  4.15563058,  3.71437103,\n",
       "         3.32244834,  2.97460415,  2.66599994,  2.39222921,  2.14931227]))"
      ]
     },
     "execution_count": 23,
     "metadata": {},
     "output_type": "execute_result"
    }
   ],
   "source": [
    "price_hagan = sabr_bsm.price(strike, forward, texp)\n",
    "price_mc = sabr_bsm_cmc.price(strike, forward, texp)\n",
    "\n",
    "# make sure the two prices are similar\n",
    "price_hagan, price_mc"
   ]
  },
  {
   "cell_type": "markdown",
   "metadata": {},
   "source": [
    "Repeat the same for beta = 0"
   ]
  },
  {
   "cell_type": "code",
   "execution_count": 24,
   "metadata": {},
   "outputs": [
    {
     "name": "stdout",
     "output_type": "stream",
     "text": [
      "{'sigma': 20, 'intr': 0.0, 'divr': 0.0, 'is_fwd': False, 'vov': 0.5, 'rho': -0.25, 'beta': 0}\n"
     ]
    }
   ],
   "source": [
    "# instantiate mc model from the hagan model's parameters\n",
    "print(sabr_norm.__dict__)\n",
    "sabr_norm_cmc = opt.sabr.ModelNormalCondMC(sabr_norm.sigma, vov=sabr_norm.vov, rho=sabr_norm.rho, beta=0)"
   ]
  },
  {
   "cell_type": "code",
   "execution_count": 25,
   "metadata": {},
   "outputs": [
    {
     "data": {
      "text/plain": [
       "(array([26.59094359, 24.75316491, 22.95198866, 21.19221774, 19.47903728,\n",
       "        17.81796274, 16.21475835, 14.6753216 , 13.20553214, 11.81106589,\n",
       "        10.49717985,  9.26847793,  8.12867327,  7.08036718,  6.12486688,\n",
       "         5.26206391,  4.4903905 ,  3.80686327,  3.2072135 ,  2.6860921 ,\n",
       "         2.2373286 ,  1.85421785,  1.52980713,  1.25715953,  1.02957603]),\n",
       " array([26.56721584, 24.72884097, 22.92749354, 21.16801744, 19.45562542,\n",
       "        17.79584261, 16.19442044, 14.65721777, 13.19004772, 11.79849227,\n",
       "        10.4876905 ,  9.26211105,  8.12532432,  7.07979332,  6.12670423,\n",
       "         5.26585629,  4.49562659,  3.81301761,  3.21378598,  2.69264124,\n",
       "         2.24349507,  1.85973662,  1.53450861,  1.26096171,  1.03247035]))"
      ]
     },
     "execution_count": 25,
     "metadata": {},
     "output_type": "execute_result"
    }
   ],
   "source": [
    "price_hagan = sabr_norm.price(strike, forward, texp)\n",
    "price_mc = sabr_norm_cmc.price(strike, forward, texp)\n",
    "\n",
    "# make sure the two prices are similar\n",
    "price_hagan, price_mc"
   ]
  },
  {
   "cell_type": "markdown",
   "metadata": {
    "collapsed": true
   },
   "source": [
    "## Compare the MC variance between brute-force MC and conditional MC\n",
    "For this, you should not use the random number seed"
   ]
  },
  {
   "cell_type": "code",
   "execution_count": 26,
   "metadata": {},
   "outputs": [],
   "source": [
    "n_repeat = 10\n",
    "\n",
    "price_bsm_mc = [None] * n_repeat\n",
    "price_bsm_cmc = [None] * n_repeat\n",
    "\n",
    "for i in range(n_repeat):\n",
    "    price_bsm_mc[i] = sabr_bsm_mc.price(strike, forward, texp)\n",
    "    price_bsm_cmc[i] = sabr_bsm_cmc.price(strike, forward, texp)\n",
    "    \n",
    "bsm_mc_var = np.var(price_bsm_mc, axis = 0)\n",
    "bsm_cmc_var = np.var(price_bsm_cmc, axis = 0)"
   ]
  },
  {
   "cell_type": "code",
   "execution_count": 27,
   "metadata": {
    "scrolled": true
   },
   "outputs": [
    {
     "data": {
      "text/plain": [
       "(array([0.01162249, 0.01133623, 0.01101719, 0.01063464, 0.01007307,\n",
       "        0.00974727, 0.00964304, 0.0098641 , 0.00983187, 0.00938069,\n",
       "        0.00887483, 0.00858416, 0.00843864, 0.00822772, 0.00818915,\n",
       "        0.0080175 , 0.00801859, 0.00792453, 0.00804097, 0.00812646,\n",
       "        0.00825361, 0.00803302, 0.00769411, 0.00734965, 0.00685023]),\n",
       " array([1.02189359e-04, 1.01858494e-04, 1.01443119e-04, 1.00977032e-04,\n",
       "        1.00502544e-04, 1.00062405e-04, 9.96891919e-05, 9.93950981e-05,\n",
       "        9.91653496e-05, 9.89573342e-05, 9.87055798e-05, 9.83310022e-05,\n",
       "        9.77520003e-05, 9.68950265e-05, 9.57028817e-05, 9.41398130e-05,\n",
       "        9.21932715e-05, 8.98727814e-05, 8.72067043e-05, 8.42377857e-05,\n",
       "        8.10182900e-05, 7.76053505e-05, 7.40569477e-05, 7.04287297e-05,\n",
       "        6.67717297e-05]))"
      ]
     },
     "execution_count": 27,
     "metadata": {},
     "output_type": "execute_result"
    }
   ],
   "source": [
    "bsm_mc_var, bsm_cmc_var"
   ]
  },
  {
   "cell_type": "code",
   "execution_count": 28,
   "metadata": {},
   "outputs": [],
   "source": [
    "n_repeat = 10\n",
    "\n",
    "price_norm_mc = [None] * n_repeat\n",
    "price_norm_cmc = [None] * n_repeat\n",
    "\n",
    "for i in range(n_repeat):\n",
    "    price_norm_mc[i] = sabr_norm_mc.price(strike, forward, texp)\n",
    "    price_norm_cmc[i] = sabr_norm_cmc.price(strike, forward, texp)\n",
    "    \n",
    "norm_mc_var = np.var(price_norm_mc, axis = 0)\n",
    "norm_cmc_var = np.var(price_norm_cmc, axis = 0)"
   ]
  },
  {
   "cell_type": "code",
   "execution_count": 29,
   "metadata": {},
   "outputs": [
    {
     "data": {
      "text/plain": [
       "(array([0.03313486, 0.0313049 , 0.02950827, 0.02810243, 0.02654906,\n",
       "        0.02542765, 0.02402108, 0.02210599, 0.01995057, 0.0178314 ,\n",
       "        0.01602487, 0.01442413, 0.0129308 , 0.01113883, 0.00950474,\n",
       "        0.00803352, 0.00674645, 0.00558994, 0.00459686, 0.00369348,\n",
       "        0.00288288, 0.00227294, 0.00181983, 0.00147276, 0.00124529]),\n",
       " array([1.07698516e-05, 9.80554725e-06, 8.90093270e-06, 8.05602377e-06,\n",
       "        7.26828249e-06, 6.53361715e-06, 5.84777712e-06, 5.20787691e-06,\n",
       "        4.61364566e-06, 4.06795777e-06, 3.57633448e-06, 3.14542837e-06,\n",
       "        2.78091176e-06, 2.48548104e-06, 2.25766435e-06, 2.09174775e-06,\n",
       "        1.97861636e-06, 1.90697076e-06, 1.86442487e-06, 1.83833156e-06,\n",
       "        1.81650821e-06, 1.78809149e-06, 1.74453684e-06, 1.68051248e-06,\n",
       "        1.59434552e-06]))"
      ]
     },
     "execution_count": 29,
     "metadata": {},
     "output_type": "execute_result"
    }
   ],
   "source": [
    "norm_mc_var, norm_cmc_var"
   ]
  },
  {
   "source": [
    "### Conclusion\n",
    "Conditional MC has much lower variance."
   ],
   "cell_type": "markdown",
   "metadata": {}
  }
 ],
 "metadata": {
  "anaconda-cloud": {},
  "kernelspec": {
   "display_name": "phbs",
   "language": "python",
   "name": "phbs"
  },
  "language_info": {
   "codemirror_mode": {
    "name": "ipython",
    "version": 3
   },
   "file_extension": ".py",
   "mimetype": "text/x-python",
   "name": "python",
   "nbconvert_exporter": "python",
   "pygments_lexer": "ipython3",
   "version": "3.7.3"
  }
 },
 "nbformat": 4,
 "nbformat_minor": 1
}