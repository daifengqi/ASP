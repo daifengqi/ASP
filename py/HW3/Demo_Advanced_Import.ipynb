{
 "cells": [
  {
   "cell_type": "markdown",
   "metadata": {},
   "source": [
    "## Now we use advanced _import_ methods\n",
    "\n",
    "\n",
    "Check out directory structure\n",
    "\n",
    "Check out the contents of `/option_models/__init__.py`\n",
    "\n",
    "```python\n",
    "from . import bsm\n",
    "from . import normal\n",
    "from . import sabr\n",
    "```\n"
   ]
  },
  {
   "cell_type": "code",
   "execution_count": 1,
   "metadata": {
    "collapsed": true
   },
   "outputs": [],
   "source": [
    "# when directory is imported, __init__.py is executed\n",
    "# from __init__.py all sub modules are imported as well\n",
    "\n",
    "import option_models as opt"
   ]
  },
  {
   "cell_type": "code",
   "execution_count": 6,
   "metadata": {},
   "outputs": [
    {
     "output_type": "execute_result",
     "data": {
      "text/plain": [
       "(<function option_models.bsm.price(strike, spot, texp, vol, intr=0.0, divr=0.0, cp_sign=1)>,\n",
       " option_models.bsm.Model)"
      ]
     },
     "metadata": {},
     "execution_count": 6
    }
   ],
   "source": [
    "# you may call\n",
    "opt.bsm.price, opt.bsm.Model"
   ]
  },
  {
   "cell_type": "code",
   "execution_count": 9,
   "metadata": {
    "collapsed": true
   },
   "outputs": [],
   "source": [
    "from option_models import bsm\n",
    "# You can even do\n",
    "#from option_models import bsm as bs"
   ]
  },
  {
   "cell_type": "code",
   "execution_count": 10,
   "metadata": {},
   "outputs": [
    {
     "output_type": "execute_result",
     "data": {
      "text/plain": [
       "(<function option_models.bsm.price(strike, spot, texp, vol, intr=0.0, divr=0.0, cp_sign=1)>,\n",
       " option_models.bsm.Model)"
      ]
     },
     "metadata": {},
     "execution_count": 10
    }
   ],
   "source": [
    "bsm.price, bsm.Model"
   ]
  },
  {
   "cell_type": "code",
   "execution_count": 14,
   "metadata": {},
   "outputs": [
    {
     "output_type": "execute_result",
     "data": {
      "text/plain": [
       "True"
      ]
     },
     "metadata": {},
     "execution_count": 14
    }
   ],
   "source": [
    "# The objects imported different ways are all same (as class type)\n",
    "bsm.Model == opt.bsm.Model"
   ]
  },
  {
   "cell_type": "code",
   "execution_count": 15,
   "metadata": {},
   "outputs": [],
   "source": [
    "# you can create instances \n",
    "bsm_model1 = bsm.Model(vol=0.2, texp=1)\n",
    "bsm_model2 = opt.bsm.Model(vol=0.2, texp=1)"
   ]
  },
  {
   "cell_type": "code",
   "execution_count": 13,
   "metadata": {},
   "outputs": [
    {
     "output_type": "execute_result",
     "data": {
      "text/plain": [
       "False"
      ]
     },
     "metadata": {},
     "execution_count": 13
    }
   ],
   "source": [
    "# But class instances are diffferent !!\n",
    "bsm_model1 == bsm_model2"
   ]
  },
  {
   "cell_type": "markdown",
   "metadata": {},
   "source": [
    "## You cal also import a particular class or functions"
   ]
  },
  {
   "cell_type": "code",
   "execution_count": 16,
   "metadata": {},
   "outputs": [
    {
     "output_type": "execute_result",
     "data": {
      "text/plain": [
       "True"
      ]
     },
     "metadata": {},
     "execution_count": 16
    }
   ],
   "source": [
    "from option_models.bsm import Model\n",
    "Model == bsm.Model\n",
    "# However this is confusing. which Model?"
   ]
  },
  {
   "cell_type": "code",
   "execution_count": 9,
   "metadata": {},
   "outputs": [
    {
     "data": {
      "text/plain": [
       "(True, True)"
      ]
     },
     "execution_count": 9,
     "metadata": {},
     "output_type": "execute_result"
    }
   ],
   "source": [
    "# Always better to be explicit\n",
    "from option_models.bsm import Model as BsmModel\n",
    "from option_models.normal import Model as NormalModel\n",
    "\n",
    "BsmModel == bsm.Model, NormalModel == opt.normal.Model"
   ]
  },
  {
   "cell_type": "markdown",
   "metadata": {
    "collapsed": true
   },
   "source": [
    "## And more coming.."
   ]
  }
 ],
 "metadata": {
  "anaconda-cloud": {},
  "kernelspec": {
   "name": "python392jvsc74a57bd0aee8b7b246df8f9039afb4144a1f6fd8d2ca17a180786b69acc140d282b71a49",
   "display_name": "Python 3.9.2 64-bit"
  },
  "language_info": {
   "codemirror_mode": {
    "name": "ipython",
    "version": 3
   },
   "file_extension": ".py",
   "mimetype": "text/x-python",
   "name": "python",
   "nbconvert_exporter": "python",
   "pygments_lexer": "ipython3",
   "version": "3.9.2-final"
  },
  "metadata": {
   "interpreter": {
    "hash": "aee8b7b246df8f9039afb4144a1f6fd8d2ca17a180786b69acc140d282b71a49"
   }
  }
 },
 "nbformat": 4,
 "nbformat_minor": 1
}