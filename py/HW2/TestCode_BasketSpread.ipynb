{
 "cells": [
  {
   "cell_type": "markdown",
   "metadata": {},
   "source": [
    "# Basket option implementation based on normal model"
   ]
  },
  {
   "cell_type": "code",
   "execution_count": 132,
   "metadata": {},
   "outputs": [
    {
     "output_type": "stream",
     "name": "stdout",
     "text": [
      "The autoreload extension is already loaded. To reload it, use:\n  %reload_ext autoreload\n"
     ]
    }
   ],
   "source": [
    "%load_ext autoreload\n",
    "%autoreload 2"
   ]
  },
  {
   "cell_type": "code",
   "execution_count": 133,
   "metadata": {},
   "outputs": [],
   "source": [
    "import numpy as np\n",
    "#import option_models as opt\n",
    "from option_models import basket\n",
    "from option_models import bsm\n",
    "from option_models import normal"
   ]
  },
  {
   "cell_type": "code",
   "execution_count": 134,
   "metadata": {},
   "outputs": [],
   "source": [
    "# A trivial test case 1: \n",
    "# one asset have 100% weight (the others zero)\n",
    "# the case should be equivalent to the BSM or Normal model price\n",
    "\n",
    "spot = np.ones(4) * 100\n",
    "vol = np.ones(4) * 0.4\n",
    "weights = np.array([0, 1, 0, 0])\n",
    "divr = np.zeros(4)\n",
    "intr = 0\n",
    "cor_m = 0.5*np.identity(4) + 0.5\n",
    "texp = 5\n",
    "strike = 120"
   ]
  },
  {
   "cell_type": "code",
   "execution_count": 135,
   "metadata": {},
   "outputs": [
    {
     "output_type": "execute_result",
     "data": {
      "text/plain": [
       "array([[1. , 0.5, 0.5, 0.5],\n",
       "       [0.5, 1. , 0.5, 0.5],\n",
       "       [0.5, 0.5, 1. , 0.5],\n",
       "       [0.5, 0.5, 0.5, 1. ]])"
      ]
     },
     "metadata": {},
     "execution_count": 135
    }
   ],
   "source": [
    "cor_m"
   ]
  },
  {
   "cell_type": "code",
   "execution_count": 136,
   "metadata": {},
   "outputs": [
    {
     "output_type": "stream",
     "name": "stdout",
     "text": [
      "[0 1 0 0]\n26.92956987643586\n"
     ]
    }
   ],
   "source": [
    "print(weights)\n",
    "\n",
    "np.random.seed(123456)\n",
    "price_basket = basket.basket_price_mc(strike, spot, vol*spot, weights, texp, cor_m, bsm=False)\n",
    "print(price_basket)"
   ]
  },
  {
   "cell_type": "code",
   "execution_count": 137,
   "metadata": {},
   "outputs": [
    {
     "output_type": "stream",
     "name": "stdout",
     "text": [
      "26.92956987643586 26.57084595787051\n"
     ]
    }
   ],
   "source": [
    "# Compare the price to normal model formula\n",
    "\n",
    "norm1 = normal.NormalModel(vol=40)\n",
    "price_norm = norm1.price(strike=120, spot=100, texp=texp, cp=1)\n",
    "print(price_basket, price_norm)"
   ]
  },
  {
   "cell_type": "code",
   "execution_count": 138,
   "metadata": {},
   "outputs": [
    {
     "output_type": "stream",
     "name": "stdout",
     "text": [
      "[[1.     0.9999 0.9999 0.9999]\n [0.9999 1.     0.9999 0.9999]\n [0.9999 0.9999 1.     0.9999]\n [0.9999 0.9999 0.9999 1.    ]]\n26.761395615904505 26.57084595787051\n"
     ]
    }
   ],
   "source": [
    "# A trivial test case 2\n",
    "# all assets almost perfectly correlated:\n",
    "# the case should be equivalent to the BSM or Normal model price\n",
    "\n",
    "spot = np.ones(4) * 100\n",
    "vol = np.ones(4) * 0.4\n",
    "weights = np.ones(4) * 0.25\n",
    "divr = np.zeros(4)\n",
    "intr = 0\n",
    "cor_m = 0.0001*np.identity(4) + 0.9999*np.ones((4,4))\n",
    "texp = 5\n",
    "strike = 120\n",
    "\n",
    "print( cor_m )\n",
    "\n",
    "np.random.seed(123456)\n",
    "price_basket = basket.basket_price_mc(strike, spot, vol*spot, weights, texp, cor_m, bsm=False)\n",
    "print(price_basket, price_norm)"
   ]
  },
  {
   "cell_type": "code",
   "execution_count": 139,
   "metadata": {},
   "outputs": [],
   "source": [
    "# A full test set for basket option with exact price\n",
    "\n",
    "spot = np.ones(4) * 100\n",
    "vol = np.ones(4) * 0.4\n",
    "weights = np.ones(4) * 0.25\n",
    "divr = np.zeros(4)\n",
    "intr = 0\n",
    "cor_m = 0.5*np.identity(4) + 0.5\n",
    "texp = 5\n",
    "strike = 100\n",
    "price_exact = 28.0073695"
   ]
  },
  {
   "cell_type": "code",
   "execution_count": 140,
   "metadata": {},
   "outputs": [
    {
     "output_type": "execute_result",
     "data": {
      "text/plain": [
       "array([[1. , 0.5, 0.5, 0.5],\n",
       "       [0.5, 1. , 0.5, 0.5],\n",
       "       [0.5, 0.5, 1. , 0.5],\n",
       "       [0.5, 0.5, 0.5, 1. ]])"
      ]
     },
     "metadata": {},
     "execution_count": 140
    }
   ],
   "source": [
    "cor_m"
   ]
  },
  {
   "cell_type": "code",
   "execution_count": 141,
   "metadata": {},
   "outputs": [
    {
     "output_type": "stream",
     "name": "stdout",
     "text": [
      "28.168716545630815 28.0073695\n"
     ]
    }
   ],
   "source": [
    "price_basket = basket.basket_price_mc(strike, spot, vol*spot, weights, texp, cor_m, bsm=False)\n",
    "print(price_basket, price_exact)"
   ]
  },
  {
   "cell_type": "markdown",
   "metadata": {},
   "source": [
    "# [To Do] Basket option implementation based on BSM model\n",
    "## Write the similar test for BSM"
   ]
  },
  {
   "cell_type": "code",
   "execution_count": 142,
   "metadata": {},
   "outputs": [
    {
     "output_type": "stream",
     "name": "stdout",
     "text": [
      "28.27745472325051\n"
     ]
    }
   ],
   "source": [
    "price_basket = basket.basket_price_mc(strike, spot, vol, weights, texp, cor_m, bsm=True)\n",
    "print(price_basket)"
   ]
  },
  {
   "cell_type": "code",
   "execution_count": 143,
   "metadata": {},
   "outputs": [
    {
     "output_type": "stream",
     "name": "stdout",
     "text": [
      "[1 0 0 0]\n"
     ]
    }
   ],
   "source": [
    "# A trivial test case 1: \n",
    "# one asset have 100% weight (the others zero)\n",
    "# the case should be equivalent to the BSM or Normal model price\n",
    "\n",
    "spot = np.ones(4) * 100\n",
    "vol = np.ones(4) * 0.4\n",
    "weights = np.array([1, 0, 0, 0])\n",
    "divr = np.zeros(4)\n",
    "intr = 0\n",
    "cor_m = 0.5*np.identity(4) + 0.5\n",
    "texp = 5\n",
    "strike = 120\n",
    "\n",
    "print(weights)\n",
    "\n",
    "np.random.seed(123456)\n",
    "price_basket = basket.basket_price_mc(strike, spot, vol, weights, texp, cor_m, bsm=True)"
   ]
  },
  {
   "cell_type": "markdown",
   "metadata": {},
   "source": [
    "# Spread option implementation based on normal model"
   ]
  },
  {
   "cell_type": "code",
   "execution_count": 144,
   "metadata": {},
   "outputs": [],
   "source": [
    "# A full test set for spread option\n",
    "\n",
    "spot = np.array([100, 96])\n",
    "vol = np.array([0.2, 0.1])\n",
    "weights = np.array([1, -1])\n",
    "divr = np.array([1, 1])*0.05\n",
    "intr = 0.1\n",
    "cor_m = np.array([[1, 0.5], [0.5, 1]])\n",
    "texp = 1\n",
    "strike = 0\n",
    "price_exact = 8.5132252"
   ]
  },
  {
   "cell_type": "code",
   "execution_count": 145,
   "metadata": {},
   "outputs": [
    {
     "output_type": "stream",
     "name": "stdout",
     "text": [
      "8.348852807225292 8.5132252\n"
     ]
    }
   ],
   "source": [
    "# MC price based on normal model\n",
    "# make sure that the prices are similar\n",
    "\n",
    "np.random.seed(123456)\n",
    "price_spread = basket.basket_price_mc(strike, spot, vol*spot, weights, texp, cor_m, intr=intr, divr=divr, bsm=False)\n",
    "print(price_spread, price_exact)"
   ]
  },
  {
   "cell_type": "markdown",
   "metadata": {},
   "source": [
    "# Spread option implementation based on BSM model"
   ]
  },
  {
   "cell_type": "code",
   "execution_count": 146,
   "metadata": {},
   "outputs": [
    {
     "output_type": "execute_result",
     "data": {
      "text/plain": [
       "8.464010544519198"
      ]
     },
     "metadata": {},
     "execution_count": 146
    }
   ],
   "source": [
    "# Once the implementation is finished the BSM model price should also work\n",
    "price_spread = basket.basket_price_mc(\n",
    "    strike, spot, vol, weights, texp, cor_m, intr=intr, divr=divr, bsm=True)\n",
    "price_spread"
   ]
  },
  {
   "cell_type": "code",
   "execution_count": 147,
   "metadata": {},
   "outputs": [
    {
     "output_type": "stream",
     "name": "stdout",
     "text": [
      "8.5132252295455 8.464010544519198\n"
     ]
    }
   ],
   "source": [
    "# You also test Kirk's approximation\n",
    "price_kirk = basket.spread_price_kirk(strike, spot, vol, texp, 0.5, intr, divr)\n",
    "print(price_kirk, price_spread)"
   ]
  },
  {
   "cell_type": "markdown",
   "metadata": {},
   "source": [
    "# [To Do] Complete the implementation of basket_price_norm_analytic\n",
    "# Compare the MC stdev of BSM basket prices from with and without CV"
   ]
  },
  {
   "cell_type": "code",
   "execution_count": 148,
   "metadata": {},
   "outputs": [],
   "source": [
    "# The basket option example from above\n",
    "spot = np.ones(4) * 100\n",
    "vol = np.ones(4) * 0.4\n",
    "weights = np.array([1, 1, 1, 1])/4\n",
    "divr = np.zeros(4)\n",
    "intr = 0\n",
    "cor_m = 0.5*np.identity(4) + 0.5\n",
    "texp = 5\n",
    "strike = 120"
   ]
  },
  {
   "cell_type": "code",
   "execution_count": 149,
   "metadata": {},
   "outputs": [
    {
     "output_type": "execute_result",
     "data": {
      "text/plain": [
       "19.330395569726363"
      ]
     },
     "metadata": {},
     "execution_count": 149
    }
   ],
   "source": [
    "### Make sure that the analytic normal price is correctly implemented\n",
    "basket.basket_price_norm_analytic(strike, spot, vol*spot, weights, texp, cor_m, intr=intr, divr=divr)"
   ]
  },
  {
   "cell_type": "code",
   "execution_count": 150,
   "metadata": {},
   "outputs": [],
   "source": [
    "# Run below about 100 times and get the mean and stdev\n",
    "\n",
    "### Returns 2 prices, without CV and with CV \n",
    "price_basket = basket.basket_price_mc_cv(strike, spot, vol, weights, texp, cor_m)"
   ]
  },
  {
   "cell_type": "code",
   "execution_count": 151,
   "metadata": {},
   "outputs": [
    {
     "output_type": "stream",
     "name": "stdout",
     "text": [
      "[21.12709787 21.19280643]\n"
     ]
    }
   ],
   "source": [
    "print(price_basket)"
   ]
  }
 ],
 "metadata": {
  "anaconda-cloud": {},
  "kernelspec": {
   "name": "phbs",
   "display_name": "Python 3.7.3 64-bit"
  },
  "language_info": {
   "codemirror_mode": {
    "name": "ipython",
    "version": 3
   },
   "file_extension": ".py",
   "mimetype": "text/x-python",
   "name": "python",
   "nbconvert_exporter": "python",
   "pygments_lexer": "ipython3",
   "version": "3.7.3-final"
  }
 },
 "nbformat": 4,
 "nbformat_minor": 1
}