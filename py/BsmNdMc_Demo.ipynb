{
 "cells": [
  {
   "cell_type": "code",
   "execution_count": 1,
   "metadata": {},
   "outputs": [],
   "source": [
    "%load_ext autoreload\n",
    "%autoreload 2"
   ]
  },
  {
   "cell_type": "code",
   "execution_count": 2,
   "metadata": {},
   "outputs": [],
   "source": [
    "import numpy as np\n",
    "import pandas as pd\n",
    "import scipy.stats as spst\n",
    "from scipy.optimize import newton\n",
    "import matplotlib.pyplot as plt\n",
    "import warnings\n",
    "import os\n",
    "import sys\n",
    "sys.path.insert(sys.path.index('')+1, 'D:/Github/PyFeng')\n",
    "import pyfeng as pf"
   ]
  },
  {
   "cell_type": "markdown",
   "metadata": {},
   "source": [
    "# Backet Option"
   ]
  },
  {
   "cell_type": "code",
   "execution_count": 7,
   "metadata": {},
   "outputs": [],
   "source": [
    "sigma = 0.4*np.ones(4)\n",
    "spot = np.ones(4)*100\n",
    "texp=5"
   ]
  },
  {
   "cell_type": "code",
   "execution_count": 11,
   "metadata": {},
   "outputs": [
    {
     "name": "stdout",
     "output_type": "stream",
     "text": [
      "100000\n"
     ]
    },
    {
     "data": {
      "text/plain": [
       "array([[[0.15969089, 0.34383065, 0.57141668, 0.42421223],\n",
       "        [2.81374194, 1.3068322 , 0.78634205, 1.05920794],\n",
       "        [1.45143979, 9.41924528, 0.71067299, 3.11737835],\n",
       "        ...,\n",
       "        [0.47244821, 0.35100675, 0.35379762, 0.5379011 ],\n",
       "        [0.94114672, 2.27251196, 0.22260395, 0.42029163],\n",
       "        [0.47742711, 0.19772348, 2.01851295, 1.06908854]]])"
      ]
     },
     "execution_count": 11,
     "metadata": {},
     "output_type": "execute_result"
    }
   ],
   "source": [
    "m = pf.BsmNdMc(sigma, cor=0.5, rn_seed=1234)\n",
    "_ = m.simulate(tobs = [texp], n_path=100000)\n",
    "print(m.n_path)\n",
    "m.path"
   ]
  },
  {
   "cell_type": "code",
   "execution_count": 9,
   "metadata": {},
   "outputs": [
    {
     "name": "stdout",
     "output_type": "stream",
     "text": [
      "20000\n"
     ]
    }
   ],
   "source": [
    "_ = m.simulate(tobs = [texp], n_path=10000, store=2)\n",
    "print(m.n_path)"
   ]
  },
  {
   "cell_type": "code",
   "execution_count": 13,
   "metadata": {},
   "outputs": [
    {
     "data": {
      "text/plain": [
       "array([54.760356  , 47.93673613, 41.9808547 , 36.80312288, 32.30556719,\n",
       "       28.41837774, 25.06332626, 22.15480597, 19.62979424, 17.43613897,\n",
       "       15.52854283])"
      ]
     },
     "execution_count": 13,
     "metadata": {},
     "output_type": "execute_result"
    }
   ],
   "source": [
    "# varying strikes\n",
    "payoff = lambda x: np.fmax(np.mean(x, axis=1) - strike, 0)\n",
    "\n",
    "strikes = np.arange(50, 151, 10)\n",
    "price = []\n",
    "for strike in strikes:\n",
    "    price.append(m.price_european(spot, texp, payoff))\n",
    "np.array(price)"
   ]
  },
  {
   "cell_type": "code",
   "execution_count": 16,
   "metadata": {},
   "outputs": [
    {
     "data": {
      "text/plain": [
       "array([ 4.50422851,  7.72073036, 11.80479205, 16.67827657, 22.24726644,\n",
       "       28.41837774, 35.12128286, 42.27834076, 49.81623101, 57.67411975,\n",
       "       65.81251632])"
      ]
     },
     "execution_count": 16,
     "metadata": {},
     "output_type": "execute_result"
    }
   ],
   "source": [
    "# varying forwards\n",
    "payoff = lambda x: np.fmax(np.mean(x, axis=1) - strike, 0)\n",
    "strike = 100\n",
    "price = []\n",
    "for spot in np.arange(50, 151, 10):\n",
    "    price.append(m.price_european(spot, texp, payoff))\n",
    "np.array(price)"
   ]
  },
  {
   "cell_type": "code",
   "execution_count": 40,
   "metadata": {},
   "outputs": [
    {
     "data": {
      "text/plain": [
       "array([18.94495855, 20.45829493, 22.49840945, 24.87785108, 30.11378007,\n",
       "       35.57949546, 41.05473026, 46.42608331, 51.61861158, 56.59050047,\n",
       "       65.9322128 ])"
      ]
     },
     "execution_count": 40,
     "metadata": {},
     "output_type": "execute_result"
    }
   ],
   "source": [
    "# varying except sigma1=100%\n",
    "strike = spot = 100\n",
    "payoff = lambda x: np.fmax(np.mean(x, axis=1) - strike, 0)\n",
    "price = []\n",
    "for sigma1 in np.array([5, 10, 15, 20, 30, 40, 50, 60, 70, 80, 100])/100:\n",
    "    sigma = sigma1 * np.ones(4)\n",
    "    sigma[0] = 1\n",
    "    #print(sigma)\n",
    "    m = pf.BsmNdMc(sigma, cor=0.5, rn_seed=1234)\n",
    "    m.simulate(tobs = [texp], n_path=400000)\n",
    "    price.append(m.price_european(spot, texp, payoff))\n",
    "np.array(price)"
   ]
  },
  {
   "cell_type": "code",
   "execution_count": null,
   "metadata": {},
   "outputs": [],
   "source": []
  },
  {
   "cell_type": "markdown",
   "metadata": {},
   "source": [
    "# For SABR Model"
   ]
  },
  {
   "cell_type": "code",
   "execution_count": 49,
   "metadata": {},
   "outputs": [
    {
     "name": "stdout",
     "output_type": "stream",
     "text": [
      "[[1.         1.         1.         ... 1.         1.         1.        ]\n",
      " [1.00118402 0.9983181  1.01856407 ... 1.01792387 0.98656839 1.01310779]\n",
      " [1.01765418 0.98166993 0.98295842 ... 0.9652479  0.99062338 1.00845641]\n",
      " ...\n",
      " [1.35936004 0.70046279 1.08451555 ... 0.54520725 0.89730747 1.06115368]\n",
      " [1.34417254 0.70802306 1.10211743 ... 0.53382163 0.86305561 1.10271591]\n",
      " [1.41330074 0.67305521 1.0961984  ... 0.53251188 0.84203739 1.12967599]]\n"
     ]
    }
   ],
   "source": [
    "# You can use BsmNdMc because sigma_t is also a geometric Brownian motion\n",
    "\n",
    "vov = 0.1\n",
    "m = pf.BsmNdMc(vov, rn_seed=1234)\n",
    "tobs = np.arange(0, 101)/100*texp\n",
    "m.simulate(tobs = tobs, n_path=1000)\n",
    "print(np.squeeze(m.path))"
   ]
  },
  {
   "cell_type": "code",
   "execution_count": null,
   "metadata": {},
   "outputs": [],
   "source": []
  }
 ],
 "metadata": {
  "kernelspec": {
   "display_name": "Python 3",
   "language": "python",
   "name": "python3"
  },
  "language_info": {
   "codemirror_mode": {
    "name": "ipython",
    "version": 3
   },
   "file_extension": ".py",
   "mimetype": "text/x-python",
   "name": "python",
   "nbconvert_exporter": "python",
   "pygments_lexer": "ipython3",
   "version": "3.8.5"
  }
 },
 "nbformat": 4,
 "nbformat_minor": 4
}
