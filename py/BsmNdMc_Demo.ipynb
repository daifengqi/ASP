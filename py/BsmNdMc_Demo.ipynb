{
 "cells": [
  {
   "cell_type": "code",
   "execution_count": 1,
   "metadata": {},
   "outputs": [],
   "source": [
    "%load_ext autoreload\n",
    "%autoreload 2"
   ]
  },
  {
   "cell_type": "code",
   "execution_count": 2,
   "metadata": {},
   "outputs": [],
   "source": [
    "import numpy as np\n",
    "import pandas as pd\n",
    "import scipy.stats as spst\n",
    "import scipy.integrate as spint\n",
    "\n",
    "from scipy.optimize import newton\n",
    "\n",
    "import matplotlib.pyplot as plt\n",
    "import warnings\n",
    "import os\n",
    "#import sys\n",
    "#sys.path.insert(sys.path.index('')+1, 'D:/Github/PyFeng')\n",
    "import pyfeng as pf"
   ]
  },
  {
   "cell_type": "markdown",
   "metadata": {},
   "source": [
    "# Backet Option"
   ]
  },
  {
   "cell_type": "code",
   "execution_count": 3,
   "metadata": {},
   "outputs": [],
   "source": [
    "sigma = 0.4*np.ones(4)\n",
    "spot = np.ones(4)*100\n",
    "texp=5"
   ]
  },
  {
   "cell_type": "code",
   "execution_count": 4,
   "metadata": {},
   "outputs": [
    {
     "name": "stdout",
     "output_type": "stream",
     "text": [
      "10000\n"
     ]
    },
    {
     "data": {
      "text/plain": [
       "(1, 10000, 4)"
      ]
     },
     "execution_count": 4,
     "metadata": {},
     "output_type": "execute_result"
    }
   ],
   "source": [
    "m = pf.BsmNdMc(sigma, cor=0.5, rn_seed=1234)\n",
    "m.simulate(tobs = [texp], n_path=10000)\n",
    "print(m.n_path)\n",
    "m.path.shape"
   ]
  },
  {
   "cell_type": "code",
   "execution_count": 5,
   "metadata": {},
   "outputs": [
    {
     "name": "stdout",
     "output_type": "stream",
     "text": [
      "60000\n",
      "(1, 60000, 4)\n"
     ]
    }
   ],
   "source": [
    "_ = m.simulate(tobs = [texp], n_path=50000, store=2)\n",
    "print(m.n_path)\n",
    "print(m.path.shape)"
   ]
  },
  {
   "cell_type": "code",
   "execution_count": 6,
   "metadata": {},
   "outputs": [
    {
     "data": {
      "text/plain": [
       "array([54.92679384, 48.11095395, 42.16350828, 36.99504987, 32.50356789,\n",
       "       28.61957621, 25.26155084, 22.34144434, 19.79993616, 17.58970694,\n",
       "       15.66817728])"
      ]
     },
     "execution_count": 6,
     "metadata": {},
     "output_type": "execute_result"
    }
   ],
   "source": [
    "# varying strikes\n",
    "payoff = lambda x: np.fmax(np.mean(x, axis=1) - strike, 0)\n",
    "\n",
    "strikes = np.arange(50, 151, 10)\n",
    "price = []\n",
    "for strike in strikes:\n",
    "    price.append(m.price_european(spot, texp, payoff))\n",
    "np.array(price)"
   ]
  },
  {
   "cell_type": "code",
   "execution_count": 7,
   "metadata": {},
   "outputs": [
    {
     "data": {
      "text/plain": [
       "array([ 4.54551749,  7.79239206, 11.9092721 , 16.82164738, 22.42497892,\n",
       "       28.61957621, 35.33937465, 42.51139716, 50.06198584, 57.93137459,\n",
       "       66.08222223])"
      ]
     },
     "execution_count": 7,
     "metadata": {},
     "output_type": "execute_result"
    }
   ],
   "source": [
    "# varying forwards\n",
    "payoff = lambda x: np.fmax(np.mean(x, axis=1) - strike, 0)\n",
    "strike = 100\n",
    "price = []\n",
    "for spot in np.arange(50, 151, 10):\n",
    "    price.append(m.price_european(spot, texp, payoff))\n",
    "np.array(price)"
   ]
  },
  {
   "cell_type": "code",
   "execution_count": 8,
   "metadata": {},
   "outputs": [
    {
     "data": {
      "text/plain": [
       "array([18.94495855, 20.45829493, 22.49840945, 24.87785108, 30.11378007,\n",
       "       35.57949546, 41.05473026, 46.42608331, 51.61861158, 56.59050047,\n",
       "       65.9322128 ])"
      ]
     },
     "execution_count": 8,
     "metadata": {},
     "output_type": "execute_result"
    }
   ],
   "source": [
    "# varying except sigma1=100%\n",
    "strike = spot = 100\n",
    "payoff = lambda x: np.fmax(np.mean(x, axis=1) - strike, 0)\n",
    "price = []\n",
    "for sigma1 in np.array([5, 10, 15, 20, 30, 40, 50, 60, 70, 80, 100])/100:\n",
    "    sigma = sigma1 * np.ones(4)\n",
    "    sigma[0] = 1\n",
    "    #print(sigma)\n",
    "    m = pf.BsmNdMc(sigma, cor=0.5, rn_seed=1234)\n",
    "    m.simulate(tobs = [texp], n_path=400000)\n",
    "    price.append(m.price_european(spot, texp, payoff))\n",
    "np.array(price)"
   ]
  },
  {
   "cell_type": "code",
   "execution_count": null,
   "metadata": {},
   "outputs": [],
   "source": []
  },
  {
   "cell_type": "markdown",
   "metadata": {},
   "source": [
    "# Simpon's method for integration"
   ]
  },
  {
   "cell_type": "markdown",
   "metadata": {},
   "source": [
    "Let's integrate exp(-a*t) from 0 to texp\n",
    "\n",
    "int exp(-a*t) = (1/a)(1 - exp(-a*texp))"
   ]
  },
  {
   "cell_type": "code",
   "execution_count": 9,
   "metadata": {},
   "outputs": [
    {
     "data": {
      "text/plain": [
       "0.3325070826077779"
      ]
     },
     "execution_count": 9,
     "metadata": {},
     "output_type": "execute_result"
    }
   ],
   "source": [
    "a = 3\n",
    "texp = 2\n",
    "exact = (1 - np.exp(-a*texp))/a\n",
    "exact"
   ]
  },
  {
   "cell_type": "code",
   "execution_count": 10,
   "metadata": {},
   "outputs": [
    {
     "name": "stdout",
     "output_type": "stream",
     "text": [
      "0.33250710653803145 2.3930253556514458e-08\n"
     ]
    }
   ],
   "source": [
    "def f(t, a):\n",
    "    return np.exp(-a*t)\n",
    "\n",
    "n_step = 100\n",
    "tobs = np.arange(0, n_step+1)/n_step * texp\n",
    "#simp = spint.simps(f(tobs, a), dx=texp/n_step)\n",
    "simp = spint.simps(f(tobs, a), dx=1) * texp/n_step\n",
    "print(simp, simp-exact)"
   ]
  },
  {
   "cell_type": "markdown",
   "metadata": {},
   "source": [
    "# For SABR Model\n",
    "## Integration of sigma(t)"
   ]
  },
  {
   "cell_type": "code",
   "execution_count": 11,
   "metadata": {},
   "outputs": [],
   "source": [
    "# You can use BsmNdMc because sigma_t is also a geometric Brownian motion\n",
    "\n",
    "vov = 0.3\n",
    "texp = 5\n",
    "m = pf.BsmNdMc(vov, rn_seed=1234)\n",
    "tobs = np.arange(0, 101)/100*texp"
   ]
  },
  {
   "cell_type": "code",
   "execution_count": 12,
   "metadata": {},
   "outputs": [
    {
     "name": "stdout",
     "output_type": "stream",
     "text": [
      "(101, 100000, 1)\n",
      "(101, 100000)\n"
     ]
    }
   ],
   "source": [
    "m.simulate(tobs = tobs, n_path=100000)\n",
    "print(m.path.shape)\n",
    "sigma_path = np.squeeze(m.path)\n",
    "print(sigma_path.shape)"
   ]
  },
  {
   "cell_type": "code",
   "execution_count": 13,
   "metadata": {},
   "outputs": [
    {
     "data": {
      "text/plain": [
       "5.0"
      ]
     },
     "execution_count": 13,
     "metadata": {},
     "output_type": "execute_result"
    }
   ],
   "source": [
    "tobs[-1]"
   ]
  },
  {
   "cell_type": "code",
   "execution_count": 14,
   "metadata": {},
   "outputs": [
    {
     "data": {
      "text/plain": [
       "(100000,)"
      ]
     },
     "execution_count": 14,
     "metadata": {},
     "output_type": "execute_result"
    }
   ],
   "source": [
    "sigma_final = sigma_path[-1,:]\n",
    "int_var = spint.simps(sigma_path**2, dx=1, axis=0) * texp/100\n",
    "int_var.shape"
   ]
  },
  {
   "cell_type": "code",
   "execution_count": 15,
   "metadata": {},
   "outputs": [
    {
     "data": {
      "text/plain": [
       "6.309840975957988"
      ]
     },
     "execution_count": 15,
     "metadata": {},
     "output_type": "execute_result"
    }
   ],
   "source": [
    "np.mean(int_var)"
   ]
  },
  {
   "cell_type": "code",
   "execution_count": 16,
   "metadata": {},
   "outputs": [
    {
     "data": {
      "text/plain": [
       "1.0001675241498442"
      ]
     },
     "execution_count": 16,
     "metadata": {},
     "output_type": "execute_result"
    }
   ],
   "source": [
    "np.mean(sigma_final)"
   ]
  }
 ],
 "metadata": {
  "kernelspec": {
   "display_name": "Python 3",
   "language": "python",
   "name": "python3"
  },
  "language_info": {
   "codemirror_mode": {
    "name": "ipython",
    "version": 3
   },
   "file_extension": ".py",
   "mimetype": "text/x-python",
   "name": "python",
   "nbconvert_exporter": "python",
   "pygments_lexer": "ipython3",
   "version": "3.8.5"
  }
 },
 "nbformat": 4,
 "nbformat_minor": 4
}
